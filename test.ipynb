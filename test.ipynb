{
 "cells": [
  {
   "cell_type": "code",
   "execution_count": 6,
   "id": "c825c3db",
   "metadata": {},
   "outputs": [],
   "source": [
    "from pymilvus import MilvusClient"
   ]
  },
  {
   "cell_type": "code",
   "execution_count": 7,
   "id": "59230730",
   "metadata": {},
   "outputs": [],
   "source": [
    "client = MilvusClient(token=\"root:Milvus\")"
   ]
  },
  {
   "cell_type": "code",
   "execution_count": 8,
   "id": "5b770cd6",
   "metadata": {},
   "outputs": [
    {
     "data": {
      "text/plain": [
       "['aiod_datasets']"
      ]
     },
     "execution_count": 8,
     "metadata": {},
     "output_type": "execute_result"
    }
   ],
   "source": [
    "client.list_collections()"
   ]
  }
 ],
 "metadata": {
  "language_info": {
   "name": "python"
  }
 },
 "nbformat": 4,
 "nbformat_minor": 5
}
