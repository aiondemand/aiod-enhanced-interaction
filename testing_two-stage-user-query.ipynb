{
 "cells": [
  {
   "cell_type": "markdown",
   "metadata": {
    "vscode": {
     "languageId": "plaintext"
    }
   },
   "source": [
    "# 2-stage user-query building approach\n",
    "\n",
    "Steps:\n",
    "- STAGE 1: Extract conditions in natural language (spans from the input) corresponding to relevant metadata fields\n",
    "    - Output (simplified one):\n",
    "    ```python\n",
    "    [\n",
    "        (\"contains English and French\", \"languages\"),\n",
    "        (\"from Huggigface platform\", \"platform\"),\n",
    "    ]\n",
    "    ```\n",
    "    <span style=\"color:red\">\n",
    "        Suggestion: We may wish to experiment with the StructuredQuery logic, and instead of outputing complicated filters we would output a relationships between conditions in their natural language format. Doing this we may be able to model whatever complicated structures in between conditions...\n",
    "    </span>\n",
    "    \n",
    "\n",
    "- STAGE 2: Process each natural language condition separately (we can dynamically create new output schemas)\n",
    "    - Output schema (for one condition):\n",
    "    ```python   \n",
    "    class Condition(BaseModel):\n",
    "        values: list[DYNAMIC_TYPE]\n",
    "        comp: Literal[\">\", \"<\", ...]\n",
    "        log_op: Literal[\"AND\", \"OR\"]\n",
    "    ```\n",
    "\n",
    "Problems:\n",
    "- It's not easy to model relationships (logical opetaros) between multiple Conditions associated with different types\n",
    "    - I suppose for now we will not support such use cases: E.g., \"Retrieve models that are either in Slovak or that have at least 1 million datapoints.\"\n",
    "    - We implicitly apply AND operator in between the Conditions. OR operator can only be applied in between values pertaining to a specific metadata field"
   ]
  },
  {
   "cell_type": "code",
   "execution_count": null,
   "metadata": {
    "vscode": {
     "languageId": "plaintext"
    }
   },
   "outputs": [],
   "source": []
  },
  {
   "cell_type": "code",
   "execution_count": null,
   "metadata": {
    "vscode": {
     "languageId": "plaintext"
    }
   },
   "outputs": [],
   "source": []
  },
  {
   "cell_type": "code",
   "execution_count": null,
   "metadata": {
    "vscode": {
     "languageId": "plaintext"
    }
   },
   "outputs": [],
   "source": []
  }
 ],
 "metadata": {
  "language_info": {
   "name": "python"
  }
 },
 "nbformat": 4,
 "nbformat_minor": 2
}
